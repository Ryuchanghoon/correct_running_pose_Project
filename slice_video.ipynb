{
  "nbformat": 4,
  "nbformat_minor": 0,
  "metadata": {
    "colab": {
      "provenance": []
    },
    "kernelspec": {
      "name": "python3",
      "display_name": "Python 3"
    },
    "language_info": {
      "name": "python"
    }
  },
  "cells": [
    {
      "cell_type": "code",
      "execution_count": 2,
      "metadata": {
        "id": "qqFOq5vPNtMH"
      },
      "outputs": [],
      "source": [
        "import cv2\n",
        "import os\n",
        "import zipfile"
      ]
    },
    {
      "cell_type": "code",
      "source": [
        "video_path = '/content/drive/MyDrive/2024_1/Python_project/correct_running_project/source_data/wrong_vid/wrong_all.mp4'"
      ],
      "metadata": {
        "id": "EIE4Bw0LNx9I"
      },
      "execution_count": 8,
      "outputs": []
    },
    {
      "cell_type": "code",
      "source": [
        "save_path = 'wrong_images'\n",
        "\n",
        "if not os.path.exists(save_path):\n",
        "    os.makedirs(save_path)"
      ],
      "metadata": {
        "id": "uvblacg3PSnV"
      },
      "execution_count": 9,
      "outputs": []
    },
    {
      "cell_type": "code",
      "source": [
        "image_name_format = 'wrong_{}.jpg'\n",
        "\n",
        "cap = cv2.VideoCapture(video_path)\n",
        "\n",
        "\n",
        "fps = cap.get(cv2.CAP_PROP_FPS)\n",
        "\n",
        "\n",
        "seconds = 1 # 프레임 1초 단위 추출\n",
        "frame_save_interval = int(fps * seconds)"
      ],
      "metadata": {
        "id": "11EjHPHGPSt-"
      },
      "execution_count": 10,
      "outputs": []
    },
    {
      "cell_type": "code",
      "source": [
        "count = 0\n",
        "frame_count = 0\n",
        "\n",
        "while cap.isOpened():\n",
        "    success, frame = cap.read()\n",
        "\n",
        "    if not success:\n",
        "        break\n",
        "\n",
        "    if frame_count % frame_save_interval == 0:\n",
        "        save_name = image_name_format.format(count)\n",
        "        cv2.imwrite(os.path.join(save_path, save_name), frame)\n",
        "        count += 1\n",
        "\n",
        "    frame_count += 1\n",
        "\n",
        "cap.release()"
      ],
      "metadata": {
        "id": "FGkTvvbLPSv8"
      },
      "execution_count": 11,
      "outputs": []
    },
    {
      "cell_type": "code",
      "source": [
        "folder_path = '/content/wrong_images'\n",
        "\n",
        "\n",
        "zip_path = 'wrong_running_images.zip'\n",
        "\n",
        "with zipfile.ZipFile(zip_path, 'w') as zipf:\n",
        "    for root, dirs, files in os.walk(folder_path):\n",
        "        for file in files:\n",
        "            file_path = os.path.join(root, file)\n",
        "            zipf.write(file_path, os.path.relpath(file_path, folder_path))"
      ],
      "metadata": {
        "id": "iznvgD9yPSx2"
      },
      "execution_count": 12,
      "outputs": []
    },
    {
      "cell_type": "code",
      "source": [],
      "metadata": {
        "id": "l6oWoyVHTIUb"
      },
      "execution_count": null,
      "outputs": []
    }
  ]
}