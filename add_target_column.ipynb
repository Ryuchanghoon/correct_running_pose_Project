{
  "nbformat": 4,
  "nbformat_minor": 0,
  "metadata": {
    "colab": {
      "provenance": []
    },
    "kernelspec": {
      "name": "python3",
      "display_name": "Python 3"
    },
    "language_info": {
      "name": "python"
    }
  },
  "cells": [
    {
      "cell_type": "code",
      "execution_count": 1,
      "metadata": {
        "id": "p3LBce0Syeyi"
      },
      "outputs": [],
      "source": [
        "import pandas as pd"
      ]
    },
    {
      "cell_type": "code",
      "source": [
        "input_csv_path = '/content/drive/MyDrive/2024_1/Python_project/correct_running_project/source_data/location_data/wrong/wrong_spine.csv'\n",
        "df = pd.read_csv(input_csv_path)"
      ],
      "metadata": {
        "id": "6QPXSZLFymJv"
      },
      "execution_count": 17,
      "outputs": []
    },
    {
      "cell_type": "code",
      "source": [
        "df['target'] = 0"
      ],
      "metadata": {
        "id": "ahR--sxcy7E3"
      },
      "execution_count": 18,
      "outputs": []
    },
    {
      "cell_type": "code",
      "source": [
        "output_csv_path = 'wrong_spine_add_target.csv'\n",
        "df.to_csv(output_csv_path, index=False)"
      ],
      "metadata": {
        "id": "zlqiF7bSzAmJ"
      },
      "execution_count": 19,
      "outputs": []
    },
    {
      "cell_type": "code",
      "source": [],
      "metadata": {
        "id": "Rmby3tdizIEO"
      },
      "execution_count": null,
      "outputs": []
    }
  ]
}